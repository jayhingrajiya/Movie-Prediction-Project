{
 "cells": [
  {
   "cell_type": "code",
   "execution_count": 1,
   "metadata": {},
   "outputs": [],
   "source": [
    "import pandas as pd"
   ]
  },
  {
   "cell_type": "code",
   "execution_count": 2,
   "metadata": {},
   "outputs": [],
   "source": [
    "df1 = pd.read_csv(\"data.csv\")\n",
    "df2 = pd.read_csv(\"data_1990_2009.csv\")"
   ]
  },
  {
   "cell_type": "code",
   "execution_count": 3,
   "metadata": {},
   "outputs": [
    {
     "data": {
      "text/html": [
       "<div>\n",
       "<style scoped>\n",
       "    .dataframe tbody tr th:only-of-type {\n",
       "        vertical-align: middle;\n",
       "    }\n",
       "\n",
       "    .dataframe tbody tr th {\n",
       "        vertical-align: top;\n",
       "    }\n",
       "\n",
       "    .dataframe thead th {\n",
       "        text-align: right;\n",
       "    }\n",
       "</style>\n",
       "<table border=\"1\" class=\"dataframe\">\n",
       "  <thead>\n",
       "    <tr style=\"text-align: right;\">\n",
       "      <th></th>\n",
       "      <th>movie_name</th>\n",
       "      <th>is_adult</th>\n",
       "      <th>year_of_release</th>\n",
       "      <th>genres</th>\n",
       "      <th>actor_1</th>\n",
       "      <th>actor_2</th>\n",
       "      <th>actor_3</th>\n",
       "      <th>imdb_rating</th>\n",
       "      <th>comb</th>\n",
       "    </tr>\n",
       "  </thead>\n",
       "  <tbody>\n",
       "    <tr>\n",
       "      <th>0</th>\n",
       "      <td>Uri The Surgical Strike</td>\n",
       "      <td>0</td>\n",
       "      <td>2019</td>\n",
       "      <td>action drama war</td>\n",
       "      <td>vicky kaushal</td>\n",
       "      <td>paresh rawal</td>\n",
       "      <td>mohit raina</td>\n",
       "      <td>8.4</td>\n",
       "      <td>Uri The Surgical Strike action drama war vicky...</td>\n",
       "    </tr>\n",
       "  </tbody>\n",
       "</table>\n",
       "</div>"
      ],
      "text/plain": [
       "                movie_name  is_adult  year_of_release            genres  \\\n",
       "0  Uri The Surgical Strike         0             2019  action drama war   \n",
       "\n",
       "         actor_1       actor_2      actor_3  imdb_rating  \\\n",
       "0  vicky kaushal  paresh rawal  mohit raina          8.4   \n",
       "\n",
       "                                                comb  \n",
       "0  Uri The Surgical Strike action drama war vicky...  "
      ]
     },
     "execution_count": 3,
     "metadata": {},
     "output_type": "execute_result"
    }
   ],
   "source": [
    "df1.head(1)"
   ]
  },
  {
   "cell_type": "code",
   "execution_count": 4,
   "metadata": {},
   "outputs": [
    {
     "data": {
      "text/html": [
       "<div>\n",
       "<style scoped>\n",
       "    .dataframe tbody tr th:only-of-type {\n",
       "        vertical-align: middle;\n",
       "    }\n",
       "\n",
       "    .dataframe tbody tr th {\n",
       "        vertical-align: top;\n",
       "    }\n",
       "\n",
       "    .dataframe thead th {\n",
       "        text-align: right;\n",
       "    }\n",
       "</style>\n",
       "<table border=\"1\" class=\"dataframe\">\n",
       "  <thead>\n",
       "    <tr style=\"text-align: right;\">\n",
       "      <th></th>\n",
       "      <th>movie_name</th>\n",
       "      <th>is_adult</th>\n",
       "      <th>year_of_release</th>\n",
       "      <th>genres</th>\n",
       "      <th>actor_1</th>\n",
       "      <th>actor_2</th>\n",
       "      <th>actor_3</th>\n",
       "      <th>imdb_rating</th>\n",
       "      <th>comb</th>\n",
       "    </tr>\n",
       "  </thead>\n",
       "  <tbody>\n",
       "    <tr>\n",
       "      <th>0</th>\n",
       "      <td>3 Idiots</td>\n",
       "      <td>0</td>\n",
       "      <td>2009</td>\n",
       "      <td>comedy drama</td>\n",
       "      <td>aamir khan</td>\n",
       "      <td>madhavan</td>\n",
       "      <td>sharman joshi</td>\n",
       "      <td>8.4</td>\n",
       "      <td>3 Idiots comedy drama aamir khan madhavan shar...</td>\n",
       "    </tr>\n",
       "  </tbody>\n",
       "</table>\n",
       "</div>"
      ],
      "text/plain": [
       "  movie_name  is_adult  year_of_release        genres     actor_1   actor_2  \\\n",
       "0   3 Idiots         0             2009  comedy drama  aamir khan  madhavan   \n",
       "\n",
       "         actor_3  imdb_rating  \\\n",
       "0  sharman joshi          8.4   \n",
       "\n",
       "                                                comb  \n",
       "0  3 Idiots comedy drama aamir khan madhavan shar...  "
      ]
     },
     "execution_count": 4,
     "metadata": {},
     "output_type": "execute_result"
    }
   ],
   "source": [
    "df2.head(1)"
   ]
  },
  {
   "cell_type": "code",
   "execution_count": 5,
   "metadata": {},
   "outputs": [],
   "source": [
    "final_df = df1.append(df2,ignore_index=True)"
   ]
  },
  {
   "cell_type": "code",
   "execution_count": 6,
   "metadata": {},
   "outputs": [
    {
     "data": {
      "text/html": [
       "<div>\n",
       "<style scoped>\n",
       "    .dataframe tbody tr th:only-of-type {\n",
       "        vertical-align: middle;\n",
       "    }\n",
       "\n",
       "    .dataframe tbody tr th {\n",
       "        vertical-align: top;\n",
       "    }\n",
       "\n",
       "    .dataframe thead th {\n",
       "        text-align: right;\n",
       "    }\n",
       "</style>\n",
       "<table border=\"1\" class=\"dataframe\">\n",
       "  <thead>\n",
       "    <tr style=\"text-align: right;\">\n",
       "      <th></th>\n",
       "      <th>movie_name</th>\n",
       "      <th>is_adult</th>\n",
       "      <th>year_of_release</th>\n",
       "      <th>genres</th>\n",
       "      <th>actor_1</th>\n",
       "      <th>actor_2</th>\n",
       "      <th>actor_3</th>\n",
       "      <th>imdb_rating</th>\n",
       "      <th>comb</th>\n",
       "    </tr>\n",
       "  </thead>\n",
       "  <tbody>\n",
       "    <tr>\n",
       "      <th>0</th>\n",
       "      <td>Uri The Surgical Strike</td>\n",
       "      <td>0</td>\n",
       "      <td>2019</td>\n",
       "      <td>action drama war</td>\n",
       "      <td>vicky kaushal</td>\n",
       "      <td>paresh rawal</td>\n",
       "      <td>mohit raina</td>\n",
       "      <td>8.4</td>\n",
       "      <td>Uri The Surgical Strike action drama war vicky...</td>\n",
       "    </tr>\n",
       "    <tr>\n",
       "      <th>1</th>\n",
       "      <td>Battalion 609</td>\n",
       "      <td>0</td>\n",
       "      <td>2019</td>\n",
       "      <td>war</td>\n",
       "      <td>vicky ahuja</td>\n",
       "      <td>shoaib ibrahim</td>\n",
       "      <td>shrikant kamat</td>\n",
       "      <td>4.1</td>\n",
       "      <td>Battalion 609 war vicky ahuja shoaib ibrahim s...</td>\n",
       "    </tr>\n",
       "    <tr>\n",
       "      <th>2</th>\n",
       "      <td>The Accidental Prime Minister</td>\n",
       "      <td>0</td>\n",
       "      <td>2019</td>\n",
       "      <td>biography drama</td>\n",
       "      <td>anupam kher</td>\n",
       "      <td>akshaye khanna</td>\n",
       "      <td>aahana kumra</td>\n",
       "      <td>6.1</td>\n",
       "      <td>The Accidental Prime Minister biography drama ...</td>\n",
       "    </tr>\n",
       "    <tr>\n",
       "      <th>3</th>\n",
       "      <td>Why Cheat India</td>\n",
       "      <td>0</td>\n",
       "      <td>2019</td>\n",
       "      <td>crime drama</td>\n",
       "      <td>emraan hashmi</td>\n",
       "      <td>shreya dhanwanthary</td>\n",
       "      <td>snighdadeep chatterji</td>\n",
       "      <td>6.0</td>\n",
       "      <td>Why Cheat India crime drama emraan hashmi shre...</td>\n",
       "    </tr>\n",
       "    <tr>\n",
       "      <th>4</th>\n",
       "      <td>Evening Shadows</td>\n",
       "      <td>0</td>\n",
       "      <td>2018</td>\n",
       "      <td>drama</td>\n",
       "      <td>mona ambegaonkar</td>\n",
       "      <td>ananth narayan mahadevan</td>\n",
       "      <td>devansh doshi</td>\n",
       "      <td>7.3</td>\n",
       "      <td>Evening Shadows drama mona ambegaonkar ananth ...</td>\n",
       "    </tr>\n",
       "  </tbody>\n",
       "</table>\n",
       "</div>"
      ],
      "text/plain": [
       "                      movie_name  is_adult  year_of_release            genres  \\\n",
       "0        Uri The Surgical Strike         0             2019  action drama war   \n",
       "1                  Battalion 609         0             2019               war   \n",
       "2  The Accidental Prime Minister         0             2019   biography drama   \n",
       "3                Why Cheat India         0             2019       crime drama   \n",
       "4                Evening Shadows         0             2018             drama   \n",
       "\n",
       "            actor_1                   actor_2                actor_3  \\\n",
       "0     vicky kaushal              paresh rawal            mohit raina   \n",
       "1       vicky ahuja            shoaib ibrahim         shrikant kamat   \n",
       "2       anupam kher            akshaye khanna           aahana kumra   \n",
       "3     emraan hashmi       shreya dhanwanthary  snighdadeep chatterji   \n",
       "4  mona ambegaonkar  ananth narayan mahadevan          devansh doshi   \n",
       "\n",
       "   imdb_rating                                               comb  \n",
       "0          8.4  Uri The Surgical Strike action drama war vicky...  \n",
       "1          4.1  Battalion 609 war vicky ahuja shoaib ibrahim s...  \n",
       "2          6.1  The Accidental Prime Minister biography drama ...  \n",
       "3          6.0  Why Cheat India crime drama emraan hashmi shre...  \n",
       "4          7.3  Evening Shadows drama mona ambegaonkar ananth ...  "
      ]
     },
     "execution_count": 6,
     "metadata": {},
     "output_type": "execute_result"
    }
   ],
   "source": [
    "final_df.head()"
   ]
  },
  {
   "cell_type": "code",
   "execution_count": 7,
   "metadata": {},
   "outputs": [],
   "source": [
    "final_df.to_csv('main_data.csv',index=False)"
   ]
  },
  {
   "cell_type": "code",
   "execution_count": null,
   "metadata": {},
   "outputs": [],
   "source": []
  }
 ],
 "metadata": {
  "kernelspec": {
   "display_name": "Python 3",
   "language": "python",
   "name": "python3"
  },
  "language_info": {
   "codemirror_mode": {
    "name": "ipython",
    "version": 3
   },
   "file_extension": ".py",
   "mimetype": "text/x-python",
   "name": "python",
   "nbconvert_exporter": "python",
   "pygments_lexer": "ipython3",
   "version": "3.8.5"
  }
 },
 "nbformat": 4,
 "nbformat_minor": 4
}
