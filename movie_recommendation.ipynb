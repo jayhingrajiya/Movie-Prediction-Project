{
 "cells": [
  {
   "cell_type": "code",
   "execution_count": 22,
   "metadata": {},
   "outputs": [],
   "source": [
    "import numpy as np\n",
    "import pandas as pd\n",
    "from sklearn.feature_extraction.text import CountVectorizer\n",
    "from sklearn.metrics.pairwise import cosine_similarity\n",
    "import pickle\n",
    "import requests"
   ]
  },
  {
   "cell_type": "code",
   "execution_count": 23,
   "metadata": {},
   "outputs": [],
   "source": [
    "data = pd.read_csv(\"main_data.csv\")"
   ]
  },
  {
   "cell_type": "code",
   "execution_count": 24,
   "metadata": {},
   "outputs": [],
   "source": [
    "data.comb = data.comb.str.lower()\n",
    "data.movie_name = data.movie_name.str.lower()"
   ]
  },
  {
   "cell_type": "code",
   "execution_count": 25,
   "metadata": {},
   "outputs": [
    {
     "data": {
      "text/html": [
       "<div>\n",
       "<style scoped>\n",
       "    .dataframe tbody tr th:only-of-type {\n",
       "        vertical-align: middle;\n",
       "    }\n",
       "\n",
       "    .dataframe tbody tr th {\n",
       "        vertical-align: top;\n",
       "    }\n",
       "\n",
       "    .dataframe thead th {\n",
       "        text-align: right;\n",
       "    }\n",
       "</style>\n",
       "<table border=\"1\" class=\"dataframe\">\n",
       "  <thead>\n",
       "    <tr style=\"text-align: right;\">\n",
       "      <th></th>\n",
       "      <th>movie_name</th>\n",
       "      <th>is_adult</th>\n",
       "      <th>year_of_release</th>\n",
       "      <th>genres</th>\n",
       "      <th>actor_1</th>\n",
       "      <th>actor_2</th>\n",
       "      <th>actor_3</th>\n",
       "      <th>imdb_rating</th>\n",
       "      <th>comb</th>\n",
       "    </tr>\n",
       "  </thead>\n",
       "  <tbody>\n",
       "    <tr>\n",
       "      <th>0</th>\n",
       "      <td>uri the surgical strike</td>\n",
       "      <td>0</td>\n",
       "      <td>2019</td>\n",
       "      <td>action drama war</td>\n",
       "      <td>vicky kaushal</td>\n",
       "      <td>paresh rawal</td>\n",
       "      <td>mohit raina</td>\n",
       "      <td>8.4</td>\n",
       "      <td>uri the surgical strike action drama war vicky...</td>\n",
       "    </tr>\n",
       "    <tr>\n",
       "      <th>1</th>\n",
       "      <td>battalion 609</td>\n",
       "      <td>0</td>\n",
       "      <td>2019</td>\n",
       "      <td>war</td>\n",
       "      <td>vicky ahuja</td>\n",
       "      <td>shoaib ibrahim</td>\n",
       "      <td>shrikant kamat</td>\n",
       "      <td>4.1</td>\n",
       "      <td>battalion 609 war vicky ahuja shoaib ibrahim s...</td>\n",
       "    </tr>\n",
       "    <tr>\n",
       "      <th>2</th>\n",
       "      <td>the accidental prime minister</td>\n",
       "      <td>0</td>\n",
       "      <td>2019</td>\n",
       "      <td>biography drama</td>\n",
       "      <td>anupam kher</td>\n",
       "      <td>akshaye khanna</td>\n",
       "      <td>aahana kumra</td>\n",
       "      <td>6.1</td>\n",
       "      <td>the accidental prime minister biography drama ...</td>\n",
       "    </tr>\n",
       "    <tr>\n",
       "      <th>3</th>\n",
       "      <td>why cheat india</td>\n",
       "      <td>0</td>\n",
       "      <td>2019</td>\n",
       "      <td>crime drama</td>\n",
       "      <td>emraan hashmi</td>\n",
       "      <td>shreya dhanwanthary</td>\n",
       "      <td>snighdadeep chatterji</td>\n",
       "      <td>6.0</td>\n",
       "      <td>why cheat india crime drama emraan hashmi shre...</td>\n",
       "    </tr>\n",
       "    <tr>\n",
       "      <th>4</th>\n",
       "      <td>evening shadows</td>\n",
       "      <td>0</td>\n",
       "      <td>2018</td>\n",
       "      <td>drama</td>\n",
       "      <td>mona ambegaonkar</td>\n",
       "      <td>ananth narayan mahadevan</td>\n",
       "      <td>devansh doshi</td>\n",
       "      <td>7.3</td>\n",
       "      <td>evening shadows drama mona ambegaonkar ananth ...</td>\n",
       "    </tr>\n",
       "    <tr>\n",
       "      <th>5</th>\n",
       "      <td>soni</td>\n",
       "      <td>0</td>\n",
       "      <td>2018</td>\n",
       "      <td>drama</td>\n",
       "      <td>geetika vidya ohlyan</td>\n",
       "      <td>saloni batra</td>\n",
       "      <td>vikas shukla</td>\n",
       "      <td>7.2</td>\n",
       "      <td>soni drama geetika vidya ohlyan saloni batra v...</td>\n",
       "    </tr>\n",
       "    <tr>\n",
       "      <th>6</th>\n",
       "      <td>fraud saiyaan</td>\n",
       "      <td>0</td>\n",
       "      <td>2019</td>\n",
       "      <td>comedy drama</td>\n",
       "      <td>arshad warsi</td>\n",
       "      <td>saurabh shukla</td>\n",
       "      <td>flora saini</td>\n",
       "      <td>4.2</td>\n",
       "      <td>fraud saiyaan comedy drama arshad warsi saurab...</td>\n",
       "    </tr>\n",
       "    <tr>\n",
       "      <th>7</th>\n",
       "      <td>bombairiya</td>\n",
       "      <td>0</td>\n",
       "      <td>2019</td>\n",
       "      <td>comedy crime drama</td>\n",
       "      <td>radhika apte</td>\n",
       "      <td>akshay oberoi</td>\n",
       "      <td>siddhanth kapoor</td>\n",
       "      <td>4.3</td>\n",
       "      <td>bombairiya comedy crime drama radhika apte aks...</td>\n",
       "    </tr>\n",
       "    <tr>\n",
       "      <th>8</th>\n",
       "      <td>manikarnika the queen of jhansi</td>\n",
       "      <td>0</td>\n",
       "      <td>2019</td>\n",
       "      <td>action biography drama</td>\n",
       "      <td>kangana ranaut</td>\n",
       "      <td>rimi sen</td>\n",
       "      <td>atul kulkarni</td>\n",
       "      <td>6.5</td>\n",
       "      <td>manikarnika the queen of jhansi action biograp...</td>\n",
       "    </tr>\n",
       "    <tr>\n",
       "      <th>9</th>\n",
       "      <td>thackeray</td>\n",
       "      <td>0</td>\n",
       "      <td>2019</td>\n",
       "      <td>biography drama</td>\n",
       "      <td>nawazuddin siddiqui</td>\n",
       "      <td>amrita rao</td>\n",
       "      <td>abdul quadir amin</td>\n",
       "      <td>5.1</td>\n",
       "      <td>thackeray biography drama nawazuddin siddiqui ...</td>\n",
       "    </tr>\n",
       "  </tbody>\n",
       "</table>\n",
       "</div>"
      ],
      "text/plain": [
       "                        movie_name  is_adult  year_of_release  \\\n",
       "0          uri the surgical strike         0             2019   \n",
       "1                    battalion 609         0             2019   \n",
       "2    the accidental prime minister         0             2019   \n",
       "3                  why cheat india         0             2019   \n",
       "4                  evening shadows         0             2018   \n",
       "5                             soni         0             2018   \n",
       "6                    fraud saiyaan         0             2019   \n",
       "7                       bombairiya         0             2019   \n",
       "8  manikarnika the queen of jhansi         0             2019   \n",
       "9                        thackeray         0             2019   \n",
       "\n",
       "                   genres               actor_1                   actor_2  \\\n",
       "0        action drama war         vicky kaushal              paresh rawal   \n",
       "1                     war           vicky ahuja            shoaib ibrahim   \n",
       "2         biography drama           anupam kher            akshaye khanna   \n",
       "3             crime drama         emraan hashmi       shreya dhanwanthary   \n",
       "4                   drama      mona ambegaonkar  ananth narayan mahadevan   \n",
       "5                   drama  geetika vidya ohlyan              saloni batra   \n",
       "6            comedy drama          arshad warsi            saurabh shukla   \n",
       "7      comedy crime drama          radhika apte             akshay oberoi   \n",
       "8  action biography drama        kangana ranaut                  rimi sen   \n",
       "9         biography drama   nawazuddin siddiqui                amrita rao   \n",
       "\n",
       "                 actor_3  imdb_rating  \\\n",
       "0            mohit raina          8.4   \n",
       "1         shrikant kamat          4.1   \n",
       "2           aahana kumra          6.1   \n",
       "3  snighdadeep chatterji          6.0   \n",
       "4          devansh doshi          7.3   \n",
       "5           vikas shukla          7.2   \n",
       "6            flora saini          4.2   \n",
       "7       siddhanth kapoor          4.3   \n",
       "8          atul kulkarni          6.5   \n",
       "9      abdul quadir amin          5.1   \n",
       "\n",
       "                                                comb  \n",
       "0  uri the surgical strike action drama war vicky...  \n",
       "1  battalion 609 war vicky ahuja shoaib ibrahim s...  \n",
       "2  the accidental prime minister biography drama ...  \n",
       "3  why cheat india crime drama emraan hashmi shre...  \n",
       "4  evening shadows drama mona ambegaonkar ananth ...  \n",
       "5  soni drama geetika vidya ohlyan saloni batra v...  \n",
       "6  fraud saiyaan comedy drama arshad warsi saurab...  \n",
       "7  bombairiya comedy crime drama radhika apte aks...  \n",
       "8  manikarnika the queen of jhansi action biograp...  \n",
       "9  thackeray biography drama nawazuddin siddiqui ...  "
      ]
     },
     "execution_count": 25,
     "metadata": {},
     "output_type": "execute_result"
    }
   ],
   "source": [
    "data.head(10)"
   ]
  },
  {
   "cell_type": "code",
   "execution_count": 26,
   "metadata": {},
   "outputs": [
    {
     "data": {
      "text/plain": [
       "'why cheat india'"
      ]
     },
     "execution_count": 26,
     "metadata": {},
     "output_type": "execute_result"
    }
   ],
   "source": [
    "data.movie_name[3]"
   ]
  },
  {
   "cell_type": "code",
   "execution_count": 27,
   "metadata": {},
   "outputs": [],
   "source": [
    "#train model\n",
    "\n",
    "# creating a count matrix\n",
    "cv = CountVectorizer()\n",
    "count_matrix = cv.fit_transform(data['comb'])\n",
    "\n",
    "# creating a similarity score matrix\n",
    "sim = cosine_similarity(count_matrix)"
   ]
  },
  {
   "cell_type": "code",
   "execution_count": 28,
   "metadata": {},
   "outputs": [
    {
     "data": {
      "text/html": [
       "<div>\n",
       "<style scoped>\n",
       "    .dataframe tbody tr th:only-of-type {\n",
       "        vertical-align: middle;\n",
       "    }\n",
       "\n",
       "    .dataframe tbody tr th {\n",
       "        vertical-align: top;\n",
       "    }\n",
       "\n",
       "    .dataframe thead th {\n",
       "        text-align: right;\n",
       "    }\n",
       "</style>\n",
       "<table border=\"1\" class=\"dataframe\">\n",
       "  <thead>\n",
       "    <tr style=\"text-align: right;\">\n",
       "      <th></th>\n",
       "      <th>movie_name</th>\n",
       "      <th>is_adult</th>\n",
       "      <th>year_of_release</th>\n",
       "      <th>genres</th>\n",
       "      <th>actor_1</th>\n",
       "      <th>actor_2</th>\n",
       "      <th>actor_3</th>\n",
       "      <th>imdb_rating</th>\n",
       "      <th>comb</th>\n",
       "    </tr>\n",
       "  </thead>\n",
       "  <tbody>\n",
       "    <tr>\n",
       "      <th>0</th>\n",
       "      <td>uri the surgical strike</td>\n",
       "      <td>0</td>\n",
       "      <td>2019</td>\n",
       "      <td>action drama war</td>\n",
       "      <td>vicky kaushal</td>\n",
       "      <td>paresh rawal</td>\n",
       "      <td>mohit raina</td>\n",
       "      <td>8.4</td>\n",
       "      <td>uri the surgical strike action drama war vicky...</td>\n",
       "    </tr>\n",
       "    <tr>\n",
       "      <th>1</th>\n",
       "      <td>battalion 609</td>\n",
       "      <td>0</td>\n",
       "      <td>2019</td>\n",
       "      <td>war</td>\n",
       "      <td>vicky ahuja</td>\n",
       "      <td>shoaib ibrahim</td>\n",
       "      <td>shrikant kamat</td>\n",
       "      <td>4.1</td>\n",
       "      <td>battalion 609 war vicky ahuja shoaib ibrahim s...</td>\n",
       "    </tr>\n",
       "    <tr>\n",
       "      <th>2</th>\n",
       "      <td>the accidental prime minister</td>\n",
       "      <td>0</td>\n",
       "      <td>2019</td>\n",
       "      <td>biography drama</td>\n",
       "      <td>anupam kher</td>\n",
       "      <td>akshaye khanna</td>\n",
       "      <td>aahana kumra</td>\n",
       "      <td>6.1</td>\n",
       "      <td>the accidental prime minister biography drama ...</td>\n",
       "    </tr>\n",
       "    <tr>\n",
       "      <th>3</th>\n",
       "      <td>why cheat india</td>\n",
       "      <td>0</td>\n",
       "      <td>2019</td>\n",
       "      <td>crime drama</td>\n",
       "      <td>emraan hashmi</td>\n",
       "      <td>shreya dhanwanthary</td>\n",
       "      <td>snighdadeep chatterji</td>\n",
       "      <td>6.0</td>\n",
       "      <td>why cheat india crime drama emraan hashmi shre...</td>\n",
       "    </tr>\n",
       "    <tr>\n",
       "      <th>4</th>\n",
       "      <td>evening shadows</td>\n",
       "      <td>0</td>\n",
       "      <td>2018</td>\n",
       "      <td>drama</td>\n",
       "      <td>mona ambegaonkar</td>\n",
       "      <td>ananth narayan mahadevan</td>\n",
       "      <td>devansh doshi</td>\n",
       "      <td>7.3</td>\n",
       "      <td>evening shadows drama mona ambegaonkar ananth ...</td>\n",
       "    </tr>\n",
       "  </tbody>\n",
       "</table>\n",
       "</div>"
      ],
      "text/plain": [
       "                      movie_name  is_adult  year_of_release            genres  \\\n",
       "0        uri the surgical strike         0             2019  action drama war   \n",
       "1                  battalion 609         0             2019               war   \n",
       "2  the accidental prime minister         0             2019   biography drama   \n",
       "3                why cheat india         0             2019       crime drama   \n",
       "4                evening shadows         0             2018             drama   \n",
       "\n",
       "            actor_1                   actor_2                actor_3  \\\n",
       "0     vicky kaushal              paresh rawal            mohit raina   \n",
       "1       vicky ahuja            shoaib ibrahim         shrikant kamat   \n",
       "2       anupam kher            akshaye khanna           aahana kumra   \n",
       "3     emraan hashmi       shreya dhanwanthary  snighdadeep chatterji   \n",
       "4  mona ambegaonkar  ananth narayan mahadevan          devansh doshi   \n",
       "\n",
       "   imdb_rating                                               comb  \n",
       "0          8.4  uri the surgical strike action drama war vicky...  \n",
       "1          4.1  battalion 609 war vicky ahuja shoaib ibrahim s...  \n",
       "2          6.1  the accidental prime minister biography drama ...  \n",
       "3          6.0  why cheat india crime drama emraan hashmi shre...  \n",
       "4          7.3  evening shadows drama mona ambegaonkar ananth ...  "
      ]
     },
     "execution_count": 28,
     "metadata": {},
     "output_type": "execute_result"
    }
   ],
   "source": [
    "data.head()"
   ]
  },
  {
   "cell_type": "code",
   "execution_count": 17,
   "metadata": {},
   "outputs": [
    {
     "data": {
      "text/plain": [
       "'toilet - ek prem katha comedy drama akshay kumar bhumi pednekar sudhir pandey'"
      ]
     },
     "execution_count": 17,
     "metadata": {},
     "output_type": "execute_result"
    }
   ],
   "source": [
    "data.comb[198]"
   ]
  },
  {
   "cell_type": "code",
   "execution_count": 29,
   "metadata": {},
   "outputs": [
    {
     "data": {
      "text/plain": [
       "array([[1.        , 0.18490007, 0.16012815, ..., 0.16012815, 0.0836242 ,\n",
       "        0.18490007],\n",
       "       [0.18490007, 1.        , 0.        , ..., 0.        , 0.        ,\n",
       "        0.        ],\n",
       "       [0.16012815, 0.        , 1.        , ..., 0.08333333, 0.08703883,\n",
       "        0.09622504],\n",
       "       ...,\n",
       "       [0.16012815, 0.        , 0.08333333, ..., 1.        , 0.08703883,\n",
       "        0.28867513],\n",
       "       [0.0836242 , 0.        , 0.08703883, ..., 0.08703883, 1.        ,\n",
       "        0.10050378],\n",
       "       [0.18490007, 0.        , 0.09622504, ..., 0.28867513, 0.10050378,\n",
       "        1.        ]])"
      ]
     },
     "execution_count": 29,
     "metadata": {},
     "output_type": "execute_result"
    }
   ],
   "source": [
    "sim"
   ]
  },
  {
   "cell_type": "code",
   "execution_count": 35,
   "metadata": {},
   "outputs": [],
   "source": [
    "#cosine similarity\n",
    "\n",
    "def rcmd(m):\n",
    "    i = data.loc[data['movie_name']==(m)].index[0]\n",
    "    lst = enumerate(sim[i])\n",
    "    lst = sorted(lst, key = lambda x:x[1] ,reverse=True)\n",
    "    lst = lst[1:7]\n",
    "    l = []\n",
    "    for i in range(len(lst)):\n",
    "        a = lst[i][0]\n",
    "        l.append(data['movie_name'][a])\n",
    "    return l"
   ]
  },
  {
   "cell_type": "code",
   "execution_count": 36,
   "metadata": {},
   "outputs": [
    {
     "data": {
      "text/plain": [
       "['manto',\n",
       " 'manjhi the mountain man',\n",
       " 'photograph',\n",
       " 'haraamkhor',\n",
       " 'te3n',\n",
       " 'titli']"
      ]
     },
     "execution_count": 36,
     "metadata": {},
     "output_type": "execute_result"
    }
   ],
   "source": [
    "rcmd('thackeray')"
   ]
  },
  {
   "cell_type": "code",
   "execution_count": null,
   "metadata": {},
   "outputs": [],
   "source": []
  }
 ],
 "metadata": {
  "kernelspec": {
   "display_name": "Python 3",
   "language": "python",
   "name": "python3"
  },
  "language_info": {
   "codemirror_mode": {
    "name": "ipython",
    "version": 3
   },
   "file_extension": ".py",
   "mimetype": "text/x-python",
   "name": "python",
   "nbconvert_exporter": "python",
   "pygments_lexer": "ipython3",
   "version": "3.8.5"
  }
 },
 "nbformat": 4,
 "nbformat_minor": 4
}
